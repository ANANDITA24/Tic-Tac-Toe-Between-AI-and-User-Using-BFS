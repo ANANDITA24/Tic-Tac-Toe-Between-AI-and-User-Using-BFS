{
 "cells": [
  {
   "cell_type": "markdown",
   "id": "38c9ed2a",
   "metadata": {},
   "source": [
    "# Import package"
   ]
  },
  {
   "cell_type": "code",
   "execution_count": 1,
   "id": "27d75db4",
   "metadata": {},
   "outputs": [],
   "source": [
    "import queue"
   ]
  },
  {
   "cell_type": "markdown",
   "id": "c6d883d5",
   "metadata": {},
   "source": [
    "# Print board"
   ]
  },
  {
   "cell_type": "code",
   "execution_count": 2,
   "id": "4c0b28ae",
   "metadata": {},
   "outputs": [],
   "source": [
    "def print_board(board):\n",
    "    for row in board:\n",
    "        print(\" | \".join(row))\n",
    "        print(\"-\" * 9)\n"
   ]
  },
  {
   "cell_type": "markdown",
   "id": "abb2c947",
   "metadata": {},
   "source": [
    "# Winner Condition"
   ]
  },
  {
   "cell_type": "code",
   "execution_count": 3,
   "id": "c30b87b6",
   "metadata": {},
   "outputs": [],
   "source": [
    "def is_winner(board, player):\n",
    "    for row in board:\n",
    "        if all(cell == player for cell in row):\n",
    "            return True\n",
    "    for col in range(3):\n",
    "        if all(board[row][col] == player for row in range(3)):\n",
    "            return True\n",
    "    if all(board[i][i] == player for i in range(3)) or all(board[i][2 - i] == player for i in range(3)):\n",
    "        return True\n",
    "    return False"
   ]
  },
  {
   "cell_type": "markdown",
   "id": "a1e34bbb",
   "metadata": {},
   "source": [
    "# Check End game Condition"
   ]
  },
  {
   "cell_type": "code",
   "execution_count": 4,
   "id": "6e3aae48",
   "metadata": {},
   "outputs": [],
   "source": [
    "def is_draw(board):\n",
    "    for row in board:\n",
    "        if \" \" in row:\n",
    "            return False\n",
    "    return True\n"
   ]
  },
  {
   "cell_type": "markdown",
   "id": "7f160d36",
   "metadata": {},
   "source": [
    "# Valid Move Condition"
   ]
  },
  {
   "cell_type": "code",
   "execution_count": 5,
   "id": "42679340",
   "metadata": {},
   "outputs": [],
   "source": [
    "def is_valid_move(board, row, col):\n",
    "    return 0 <= row < 3 and 0 <= col < 3 and board[row][col] == \" \""
   ]
  },
  {
   "cell_type": "markdown",
   "id": "b7c70fab",
   "metadata": {},
   "source": [
    "# AI Move Using BFS"
   ]
  },
  {
   "cell_type": "code",
   "execution_count": 6,
   "id": "c2b47cc3",
   "metadata": {},
   "outputs": [],
   "source": [
    "def bfs_ai_move(board, player):\n",
    "    q = queue.Queue()\n",
    "    q.put(board)\n",
    "\n",
    "    while not q.empty():\n",
    "        current_board = q.get()\n",
    "\n",
    "        for row in range(3):\n",
    "            for col in range(3):\n",
    "                if current_board[row][col] == \" \":\n",
    "                    new_board = [row[:] for row in current_board]\n",
    "                    new_board[row][col] = player\n",
    "                    if is_winner(new_board, player):\n",
    "                        return row, col\n",
    "                    q.put(new_board)\n",
    "\n",
    "    return None  # If no winning move is found, return None\n"
   ]
  },
  {
   "cell_type": "markdown",
   "id": "725c6655",
   "metadata": {},
   "source": [
    "# Main Game \n",
    "The play_tic_tac_toe function is the main game loop where the Tic Tac Toe game is played. It sets up the game board, defines the players (\"X\" and \"O\"), and initializes the current player as \"X."
   ]
  },
  {
   "cell_type": "code",
   "execution_count": 7,
   "id": "63aa36bb",
   "metadata": {},
   "outputs": [
    {
     "name": "stdout",
     "output_type": "stream",
     "text": [
      "  |   |  \n",
      "---------\n",
      "  |   |  \n",
      "---------\n",
      "  |   |  \n",
      "---------\n",
      "Enter row (0-2) for player X: 1\n",
      "Enter column (0-2) for player X: 0\n",
      "  |   |  \n",
      "---------\n",
      "X |   |  \n",
      "---------\n",
      "  |   |  \n",
      "---------\n",
      "Player O (AI) is making a move...\n",
      "  |   | O\n",
      "---------\n",
      "X |   |  \n",
      "---------\n",
      "  |   |  \n",
      "---------\n",
      "Enter row (0-2) for player X: 0\n",
      "Enter column (0-2) for player X: 0\n",
      "X |   | O\n",
      "---------\n",
      "X |   |  \n",
      "---------\n",
      "  |   |  \n",
      "---------\n",
      "Player O (AI) is making a move...\n",
      "X |   | O\n",
      "---------\n",
      "X |   |  \n",
      "---------\n",
      "O |   |  \n",
      "---------\n",
      "Enter row (0-2) for player X: 0\n",
      "Enter column (0-2) for player X: 1\n",
      "X | X | O\n",
      "---------\n",
      "X |   |  \n",
      "---------\n",
      "O |   |  \n",
      "---------\n",
      "Player O (AI) is making a move...\n",
      "X | X | O\n",
      "---------\n",
      "X | O |  \n",
      "---------\n",
      "O |   |  \n",
      "---------\n",
      "Player O wins!\n"
     ]
    }
   ],
   "source": [
    "# main game loop\n",
    "def play_tic_tac_toe():\n",
    "    board = [[\" \" for _ in range(3)] for _ in range(3)]\n",
    "    players = [\"X\", \"O\"]\n",
    "    current_player = players[0]\n",
    "\n",
    "    while True:\n",
    "        print_board(board)\n",
    "\n",
    "        if current_player == \"X\":\n",
    "            row = int(input(f\"Enter row (0-2) for player X: \"))\n",
    "            col = int(input(f\"Enter column (0-2) for player X: \"))\n",
    "        else:\n",
    "            print(\"Player O (AI) is making a move...\")\n",
    "            ai_move = bfs_ai_move(board, current_player)\n",
    "            if ai_move:\n",
    "                row, col = ai_move\n",
    "            else:\n",
    "                print(\"AI couldn't find a winning move, making a random move.\")\n",
    "                # Implement a more advanced AI algorithm here.\n",
    "                row, col = 0, 0  # For simplicity, making a random move.\n",
    "\n",
    "        if is_valid_move(board, row, col):\n",
    "            board[row][col] = current_player\n",
    "\n",
    "            if is_winner(board, current_player):\n",
    "                print_board(board)\n",
    "                print(f\"Player {current_player} wins!\")\n",
    "                break\n",
    "\n",
    "            if is_draw(board):\n",
    "                print_board(board)\n",
    "                print(\"It's a draw!\")\n",
    "                break\n",
    "\n",
    "            current_player = players[1] if current_player == players[0] else players[0]\n",
    "\n",
    "        else:\n",
    "            print(\"Invalid move. Please try again.\")\n",
    "# main Function\n",
    "if __name__ == \"__main__\":\n",
    "    play_tic_tac_toe()\n"
   ]
  }
 ],
 "metadata": {
  "kernelspec": {
   "display_name": "Python 3 (ipykernel)",
   "language": "python",
   "name": "python3"
  },
  "language_info": {
   "codemirror_mode": {
    "name": "ipython",
    "version": 3
   },
   "file_extension": ".py",
   "mimetype": "text/x-python",
   "name": "python",
   "nbconvert_exporter": "python",
   "pygments_lexer": "ipython3",
   "version": "3.11.4"
  }
 },
 "nbformat": 4,
 "nbformat_minor": 5
}
